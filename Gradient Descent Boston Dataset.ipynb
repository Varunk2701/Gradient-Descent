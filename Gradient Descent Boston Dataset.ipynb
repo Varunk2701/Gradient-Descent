{
 "cells": [
  {
   "cell_type": "code",
   "execution_count": 1,
   "metadata": {},
   "outputs": [],
   "source": [
    "import numpy as np\n",
    "import matplotlib.pyplot as plt\n",
    "import pandas as pd\n",
    "from sklearn import datasets\n",
    "from sklearn import model_selection\n",
    "from sklearn.linear_model import LinearRegression\n",
    "from sklearn.svm import SVR\n",
    "from sklearn.preprocessing import StandardScaler\n",
    "from sklearn.preprocessing import MinMaxScaler\n",
    "min_max_scaler = MinMaxScaler()\n",
    "std_scaler = StandardScaler()"
   ]
  },
  {
   "cell_type": "code",
   "execution_count": 2,
   "metadata": {},
   "outputs": [],
   "source": [
    "def step_gradient(X, Y, learning_rate, m):\n",
    "    M = X.shape[0]\n",
    "    N = X.shape[1]\n",
    "    m_slope = np.zeros(N)\n",
    "    for i in range(M):\n",
    "        x = X[i]\n",
    "        y_pred = (m*x).sum()\n",
    "        for j in range(N):\n",
    "            m_slope[j] += (-2/M)*(Y[i] - y_pred)*x[j]\n",
    "    m = m - learning_rate*(m_slope)\n",
    "    return m  \n",
    "\n",
    "def gd(X, Y, learning_rate, num_iterations):\n",
    "    m = np.zeros(X.shape[1])\n",
    "    for i in range(num_iterations):\n",
    "        m = step_gradient(X, Y, learning_rate, m)\n",
    "    print(i+1, 'Cost: ', cost(X, Y, m))\n",
    "    return m\n",
    "\n",
    "def cost(X, Y, m):\n",
    "    return ((Y - np.sum(m*X, axis = 1))**2).mean()\n",
    "\n",
    "def predict(X, m):\n",
    "    return np.sum(m*X, axis = 1)\n",
    "\n",
    "def score(y_truth, y_pred):\n",
    "    u = ((y_truth - y_pred)**2).sum()\n",
    "    v = ((y_truth - y_truth.mean())**2).sum()\n",
    "    return 1-u/v\n",
    "    "
   ]
  },
  {
   "cell_type": "markdown",
   "metadata": {},
   "source": [
    "### with feature scaling"
   ]
  },
  {
   "cell_type": "code",
   "execution_count": 5,
   "metadata": {},
   "outputs": [
    {
     "name": "stdout",
     "output_type": "stream",
     "text": [
      "(7176, 5)\n",
      "[   8.58   38.38 1021.03   84.37  482.26]\n",
      "(2392, 4)\n",
      "(7176, 4) (7176,)\n",
      "[-1.5082328  -1.2705618   1.32815576  0.75466221]\n",
      "500 Cost:  20.911748993218566\n"
     ]
    }
   ],
   "source": [
    "def run():\n",
    "    #df  = pd.read_csv('0000000000002417_training_boston_x_y_train.csv')\n",
    "    #print(df.head(5))\n",
    "    data = np.genfromtxt('trainlast.csv', delimiter = ',')\n",
    "    print(data.shape)\n",
    "    print(data[0])\n",
    "    target = np.genfromtxt('testlast.csv', delimiter = ',')\n",
    "    print(target.shape)\n",
    "    x_train, y_train = data[:,:-1], data[:, -1]\n",
    "    print(x_train.shape, y_train.shape)\n",
    "    x_test = target\n",
    "    reshape_value = x_test.shape[0]\n",
    "    \n",
    "    #x_train = std_scaler.fit_transform(x_train)\n",
    "    #x_test = std_scaler.transform(x_test)\n",
    "    x_test = std_scaler.fit_transform(x_test)\n",
    "    x_train = std_scaler.transform(x_train)\n",
    "    \n",
    "    print(x_train[0])\n",
    "    \n",
    "    x_train = np.insert(x_train, x_train.shape[1], 1, axis = 1)\n",
    "    x_test = np.insert(x_test, x_test.shape[1], 1, axis = 1)\n",
    "    \n",
    "    learning_rate = 0.1\n",
    "    num_iterations = 500\n",
    "    m = gd(x_train, y_train, learning_rate, num_iterations)\n",
    "    Y_pred = predict(x_test, m)\n",
    "    #print(Y_pred.shape)\n",
    "    \n",
    "    Y_pred = Y_pred.reshape(reshape_value, 1)\n",
    "    np.savetxt('y_predictions_boston.csv', Y_pred, delimiter = ',')\n",
    "    \n",
    "run() "
   ]
  },
  {
   "cell_type": "markdown",
   "metadata": {},
   "source": [
    "### without feature scaling"
   ]
  },
  {
   "cell_type": "code",
   "execution_count": 12,
   "metadata": {},
   "outputs": [
    {
     "name": "stdout",
     "output_type": "stream",
     "text": [
      "(7176, 5)\n",
      "[   8.58   38.38 1021.03   84.37  482.26]\n",
      "(2392, 4)\n",
      "(7176, 4) (7176,)\n",
      "500 Cost:  1.1335256453783181e+35\n"
     ]
    }
   ],
   "source": [
    "def run():\n",
    "    data = np.loadtxt('trainlast.csv', delimiter = ',')\n",
    "    print(data.shape)\n",
    "    print(data[0])\n",
    "    target = np.loadtxt('testlast.csv', delimiter = ',')\n",
    "    print(target.shape)\n",
    "    x_train, y_train = data[:,:-1], data[:, -1]\n",
    "    print(x_train.shape, y_train.shape)\n",
    "    x_train = np.insert(x_train, x_train.shape[1], 1, axis = 1)\n",
    "    \n",
    "    x_test = target\n",
    "    reshape_value = x_test.shape[0]\n",
    "    x_test = np.insert(x_test, x_test.shape[1], 1, axis = 1)\n",
    "    \n",
    "    learning_rate = 0.000001\n",
    "    num_iterations = 500\n",
    "    m = gd(x_train, y_train, learning_rate, num_iterations)\n",
    "    Y_pred = predict(x_test, m)\n",
    "    #print(Y_pred.shape)\n",
    "    Y_pred = Y_pred.reshape(reshape_value, 1)\n",
    "    np.savetxt('bostonalways.csv', Y_pred, delimiter = ',')\n",
    "    \n",
    "run()   "
   ]
  },
  {
   "cell_type": "code",
   "execution_count": null,
   "metadata": {},
   "outputs": [],
   "source": []
  }
 ],
 "metadata": {
  "kernelspec": {
   "display_name": "Python 3",
   "language": "python",
   "name": "python3"
  },
  "language_info": {
   "codemirror_mode": {
    "name": "ipython",
    "version": 3
   },
   "file_extension": ".py",
   "mimetype": "text/x-python",
   "name": "python",
   "nbconvert_exporter": "python",
   "pygments_lexer": "ipython3",
   "version": "3.8.3"
  }
 },
 "nbformat": 4,
 "nbformat_minor": 4
}
